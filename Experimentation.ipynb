{
 "cells": [
  {
   "cell_type": "code",
   "execution_count": 69,
   "metadata": {},
   "outputs": [],
   "source": [
    "from requests import get\n",
    "from requests.exceptions import RequestException\n",
    "from contextlib import closing\n",
    "from bs4 import BeautifulSoup\n",
    "import sys"
   ]
  },
  {
   "cell_type": "code",
   "execution_count": 70,
   "metadata": {},
   "outputs": [],
   "source": [
    "test_url1 = 'https://www.allrecipes.com/recipe/7453/chocolate-caramel-nut-cake/?internalSource=rotd&referringId=22935&referringContentType=Recipe%20Hub'\n",
    "test_url2 = 'https://thewoksoflife.com/2018/08/peach-daiquiris-frozen/'"
   ]
  },
  {
   "cell_type": "code",
   "execution_count": 112,
   "metadata": {},
   "outputs": [],
   "source": [
    "from requests import get\n",
    "\n",
    "def get_raw_html(url):\n",
    "    try:\n",
    "        raw_html = get(url,stream=True)\n",
    "        if raw_html.status_code == 200:\n",
    "            html = BeautifulSoup(raw_html.content, 'html.parser')\n",
    "            return html\n",
    "        else:\n",
    "            print(raw_html.status_code)\n",
    "            sys.exit()\n",
    "    except:\n",
    "            print(\"URL \", url, \" not recognized!\")\n",
    "\n",
    "def grab_ingredients(url):\n",
    "    html = get_raw_html(url)\n",
    "    items = []\n",
    "    for line in html.select('label'):\n",
    "#         print(line)\n",
    "        line = str(line)\n",
    "        if \"{true: 'checkList__item'}\" in line:\n",
    "            segments = line.split('\"')\n",
    "            items.append(segments[3])\n",
    "    return items[:-1]\n",
    "\n",
    "def grab_steps(url):\n",
    "    html = get_raw_html(url)\n",
    "    items = []\n",
    "    for line in html.select('span'):\n",
    "#         print(line)\n",
    "        line = str(line)\n",
    "        if \"recipe-directions__list--item\" in line:\n",
    "            segments = line.split('>')\n",
    "            items.append(segments[1].split('\\n')[0])\n",
    "    return items[:-1]"
   ]
  },
  {
   "cell_type": "code",
   "execution_count": 123,
   "metadata": {},
   "outputs": [],
   "source": [
    "ingredients1 = grab_ingredients(test_url1)"
   ]
  },
  {
   "cell_type": "code",
   "execution_count": 124,
   "metadata": {},
   "outputs": [
    {
     "data": {
      "text/plain": [
       "['1 (18.25 ounce) package German chocolate cake mix',\n",
       " '1 cup semisweet chocolate chips',\n",
       " '1 (5 ounce) can evaporated milk',\n",
       " '14 ounces individually wrapped caramels',\n",
       " '3/4 cup butter',\n",
       " '1 cup walnuts']"
      ]
     },
     "execution_count": 124,
     "metadata": {},
     "output_type": "execute_result"
    }
   ],
   "source": [
    "ingredients1"
   ]
  },
  {
   "cell_type": "code",
   "execution_count": 169,
   "metadata": {},
   "outputs": [],
   "source": [
    "def ingredient_parser(string):\n",
    "    words = string.split(' ')\n",
    "\n",
    "    # Quantity\n",
    "    quantity = [words[0]]\n",
    "    words = words[1:]\n",
    "\n",
    "    # Measurement\n",
    "    if '(' in words[0]:\n",
    "        measurement = ' '.join(words[:3])\n",
    "        measurement = measurement.replace(\"(\",\"\").replace(\")\",\"\")\n",
    "        measurement = [measurement]\n",
    "        words = words[3:]\n",
    "    else:\n",
    "        measurement = [words[0]]\n",
    "        words = words[1:]\n",
    "        \n",
    "    name = [' '.join(words)]\n",
    "\n",
    "    descriptor = []\n",
    "    preparation = []\n",
    "    prep_description = []\n",
    "    Max = []\n",
    "    return {\"name\":name,\n",
    "           \"quantity\":quantity,\n",
    "           \"measurement\":measurement,\n",
    "           \"descriptor\":descriptor,\n",
    "           \"preparation\":preparation,\n",
    "           \"prep_description\":prep_description,\n",
    "           \"max\":Max\n",
    "          }\n",
    "\n",
    "def ingredient_dict(string_list):\n",
    "    ingredient_list = []\n",
    "    for ingredient in string_list:\n",
    "        ingredient_list.append(ingredient_parser(ingredient))\n",
    "    return ingredient_list"
   ]
  },
  {
   "cell_type": "code",
   "execution_count": 167,
   "metadata": {},
   "outputs": [
    {
     "data": {
      "text/plain": [
       "['1 (18.25 ounce) package German chocolate cake mix',\n",
       " '1 cup semisweet chocolate chips',\n",
       " '1 (5 ounce) can evaporated milk',\n",
       " '14 ounces individually wrapped caramels',\n",
       " '3/4 cup butter',\n",
       " '1 cup walnuts']"
      ]
     },
     "execution_count": 167,
     "metadata": {},
     "output_type": "execute_result"
    }
   ],
   "source": [
    "ingredients1"
   ]
  },
  {
   "cell_type": "code",
   "execution_count": 168,
   "metadata": {},
   "outputs": [
    {
     "data": {
      "text/plain": [
       "[{'name': ['German chocolate cake mix'],\n",
       "  'quantity': ['1'],\n",
       "  'measurement': ['18.25 ounce package'],\n",
       "  'descriptor': [],\n",
       "  'preparation': [],\n",
       "  'prep_description': [],\n",
       "  'max': []},\n",
       " {'name': ['semisweet chocolate chips'],\n",
       "  'quantity': ['1'],\n",
       "  'measurement': ['cup'],\n",
       "  'descriptor': [],\n",
       "  'preparation': [],\n",
       "  'prep_description': [],\n",
       "  'max': []},\n",
       " {'name': ['evaporated milk'],\n",
       "  'quantity': ['1'],\n",
       "  'measurement': ['5 ounce can'],\n",
       "  'descriptor': [],\n",
       "  'preparation': [],\n",
       "  'prep_description': [],\n",
       "  'max': []},\n",
       " {'name': ['individually wrapped caramels'],\n",
       "  'quantity': ['14'],\n",
       "  'measurement': ['ounces'],\n",
       "  'descriptor': [],\n",
       "  'preparation': [],\n",
       "  'prep_description': [],\n",
       "  'max': []},\n",
       " {'name': ['butter'],\n",
       "  'quantity': ['3/4'],\n",
       "  'measurement': ['cup'],\n",
       "  'descriptor': [],\n",
       "  'preparation': [],\n",
       "  'prep_description': [],\n",
       "  'max': []},\n",
       " {'name': ['walnuts'],\n",
       "  'quantity': ['1'],\n",
       "  'measurement': ['cup'],\n",
       "  'descriptor': [],\n",
       "  'preparation': [],\n",
       "  'prep_description': [],\n",
       "  'max': []}]"
      ]
     },
     "execution_count": 168,
     "metadata": {},
     "output_type": "execute_result"
    }
   ],
   "source": [
    "ingredient_dict(ingredients1)"
   ]
  },
  {
   "cell_type": "code",
   "execution_count": null,
   "metadata": {},
   "outputs": [],
   "source": []
  },
  {
   "cell_type": "code",
   "execution_count": null,
   "metadata": {},
   "outputs": [],
   "source": []
  },
  {
   "cell_type": "code",
   "execution_count": null,
   "metadata": {},
   "outputs": [],
   "source": []
  }
 ],
 "metadata": {
  "kernelspec": {
   "display_name": "NLP Proj2 Env",
   "language": "python",
   "name": "env"
  },
  "language_info": {
   "codemirror_mode": {
    "name": "ipython",
    "version": 3
   },
   "file_extension": ".py",
   "mimetype": "text/x-python",
   "name": "python",
   "nbconvert_exporter": "python",
   "pygments_lexer": "ipython3",
   "version": "3.6.8"
  }
 },
 "nbformat": 4,
 "nbformat_minor": 2
}
